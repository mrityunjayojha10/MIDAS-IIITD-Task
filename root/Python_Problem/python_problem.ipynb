{
  "nbformat": 4,
  "nbformat_minor": 0,
  "metadata": {
    "colab": {
      "name": "python-problem.ipynb",
      "version": "0.3.2",
      "provenance": [],
      "collapsed_sections": []
    },
    "kernelspec": {
      "name": "python3",
      "display_name": "Python 3"
    }
  },
  "cells": [
    {
      "metadata": {
        "id": "NtYzgKL8GBVv",
        "colab_type": "text"
      },
      "cell_type": "markdown",
      "source": [
        "To install JSONlines"
      ]
    },
    {
      "metadata": {
        "id": "qQawJkqvoUa9",
        "colab_type": "code",
        "colab": {
          "base_uri": "https://localhost:8080/",
          "height": 129
        },
        "outputId": "95f02671-2479-4deb-cdf5-7687bcb0a2ac"
      },
      "cell_type": "code",
      "source": [
        "!pip install jsonlines"
      ],
      "execution_count": 50,
      "outputs": [
        {
          "output_type": "stream",
          "text": [
            "Collecting jsonlines\n",
            "  Downloading https://files.pythonhosted.org/packages/4f/9a/ab96291470e305504aa4b7a2e0ec132e930da89eb3ca7a82fbe03167c131/jsonlines-1.2.0-py2.py3-none-any.whl\n",
            "Requirement already satisfied: six in /usr/local/lib/python3.6/dist-packages (from jsonlines) (1.11.0)\n",
            "Installing collected packages: jsonlines\n",
            "Successfully installed jsonlines-1.2.0\n"
          ],
          "name": "stdout"
        }
      ]
    },
    {
      "metadata": {
        "id": "LpsV2JD-GRpu",
        "colab_type": "text"
      },
      "cell_type": "markdown",
      "source": [
        "Importing the dependencies"
      ]
    },
    {
      "metadata": {
        "id": "kT_MlwiJ_v2z",
        "colab_type": "code",
        "colab": {}
      },
      "cell_type": "code",
      "source": [
        "import tweepy\n",
        "import json\n",
        "import jsonlines\n",
        "import pandas as pd"
      ],
      "execution_count": 0,
      "outputs": []
    },
    {
      "metadata": {
        "id": "izJUz1QbDfzr",
        "colab_type": "code",
        "colab": {}
      },
      "cell_type": "code",
      "source": [
        "consumer_key = 'chWJ0x9OI21ptDccD6jWiQlxf'\n",
        "consumer_secret = 'p2mWRlFMftyIspFqeRPhbK5eUhbjMLLte3jwk8Dl8mFv6vBPxA'\n",
        "\n",
        "access_token = '1102633539734986752-5cMvmoIvR1C9RLT9vuS2JDUdJdtR2T'\n",
        "access_token_secret = '2SZgWcSLvshXbwL5NfGeSYvIXLYUt0EPC5wQYzyTAE75r'"
      ],
      "execution_count": 0,
      "outputs": []
    },
    {
      "metadata": {
        "id": "2Y4tA9r0GahW",
        "colab_type": "text"
      },
      "cell_type": "markdown",
      "source": [
        "authorize twitter, initialize tweepy"
      ]
    },
    {
      "metadata": {
        "id": "Fq5TloHhD_GD",
        "colab_type": "code",
        "colab": {}
      },
      "cell_type": "code",
      "source": [
        "\n",
        "# Authorization to consumer key and consumer secret \n",
        "auth = tweepy.OAuthHandler(consumer_key, consumer_secret)\n",
        "\n",
        "# Access to user's access key and access secret\n",
        "auth.set_access_token(access_token, access_token_secret)\n",
        "\n",
        "# Calling api \n",
        "api = tweepy.API(auth)         "
      ],
      "execution_count": 0,
      "outputs": []
    },
    {
      "metadata": {
        "id": "OQNPP93CGiPe",
        "colab_type": "text"
      },
      "cell_type": "markdown",
      "source": [
        "Function to fetch all the tweets made by a twitter handle"
      ]
    },
    {
      "metadata": {
        "id": "ZgIr5KPME5Q1",
        "colab_type": "code",
        "colab": {}
      },
      "cell_type": "code",
      "source": [
        "def get_tweets(username, api):\n",
        "  \n",
        "  alltweets = [] # a list to hold all the Tweets\n",
        "  \n",
        "  # request for most recent tweets (200 is the maximum allowed count)\n",
        "  new_tweets = api.user_timeline(screen_name = username,count=199)\n",
        "  \n",
        "  alltweets.extend(new_tweets)\n",
        "  \n",
        "  # save the id of the oldest tweet less one\n",
        "  # makes sure we keep fetching older tweets as we loop through rather than fetching same tweets \n",
        "  oldest = alltweets[-1].id - 1\n",
        "  \n",
        "  # Stay in the loop as long as new tweets are available to fetch  \n",
        "  while len(new_tweets) > 0:\n",
        "    \n",
        "    new_tweets = api.user_timeline(screen_name = username,count=199,max_id=oldest)\n",
        "    alltweets.extend(new_tweets)\n",
        "    oldest = alltweets[-1].id - 1\n",
        "\n",
        "    \n",
        "    print(\"Total tweets downloaded from %s are %s\" % (username,len(alltweets)))\n",
        "  return alltweets\n",
        "    \n",
        "\n",
        "                             "
      ],
      "execution_count": 0,
      "outputs": []
    },
    {
      "metadata": {
        "id": "SvNPmRiWHIKC",
        "colab_type": "text"
      },
      "cell_type": "markdown",
      "source": [
        "Fetching twitter in a list"
      ]
    },
    {
      "metadata": {
        "id": "BcZshJpmFjNz",
        "colab_type": "code",
        "outputId": "0b9f930b-d834-4f57-c29a-3646af49b92a",
        "colab": {
          "base_uri": "https://localhost:8080/",
          "height": 72
        }
      },
      "cell_type": "code",
      "source": [
        "data = get_tweets('midasIIITD', api)\n",
        "print(len(data))"
      ],
      "execution_count": 124,
      "outputs": [
        {
          "output_type": "stream",
          "text": [
            "Total tweets downloaded from midasIIITD are 344\n",
            "Total tweets downloaded from midasIIITD are 344\n",
            "344\n"
          ],
          "name": "stdout"
        }
      ]
    },
    {
      "metadata": {
        "id": "ZJqqJfCJHeve",
        "colab_type": "text"
      },
      "cell_type": "markdown",
      "source": [
        "Function to store all the tweets in JSON line file"
      ]
    },
    {
      "metadata": {
        "id": "PLjXhDwmZuo0",
        "colab_type": "code",
        "colab": {}
      },
      "cell_type": "code",
      "source": [
        "def store_tweets(alltweets):\n",
        "  \n",
        "  tweet_list=[] # a list of all formatted tweets\n",
        "  \n",
        "  #looping through all the tweets in the list\n",
        "  for tweet in alltweets:\n",
        "    l = []\n",
        "    tweet_information=dict() # a dict to contain information about single tweet\n",
        "    \n",
        "    # code to check for images present in tweet\n",
        "    for image in  tweet.entities.get('media', []): # returns an empty list if no image is present\n",
        "      l = image['media_url'] # return a list of image url\n",
        "    if(len(l)>0):\n",
        "      tweet_information['image_count'] = len(l)\n",
        "    else:\n",
        "      tweet_information['image_count'] = None\n",
        "          \n",
        "    # text of tweet                \n",
        "    tweet_information['text']=tweet.text\n",
        "    #date and time of tweet\n",
        "    tweet_information['created_at']=tweet.created_at.strftime(\"%Y-%m-%d %H:%M:%S\")\n",
        "    \n",
        "    # id of this tweet\n",
        "    tweet_information['id_str']=tweet.id_str\n",
        "    # retweet count\n",
        "    tweet_information['retweet_count']=tweet.retweet_count\n",
        "    \n",
        "    #favourites count\n",
        "    tweet_information['favorite_count']=tweet.favorite_count\n",
        "    #username of the user to which it was replied (is Nullable)\n",
        "    tweet_information['in_reply_to_screen_name']=tweet.in_reply_to_screen_name\n",
        "    \n",
        "    # user information in user dictionery\n",
        "    user_dictionery=tweet._json['user']\n",
        "    # no of followers of the user\n",
        "    tweet_information['followers_count']=user_dictionery['followers_count']\n",
        "    # screename of the person who tweeted this\n",
        "    tweet_information['screen_name']=user_dictionery['screen_name']\n",
        "    \n",
        "    \n",
        "    # add this tweet to the dictionary\n",
        "    tweet_list.append(tweet_information)\n",
        "    \n",
        "  with jsonlines.open('/content/twitter.jsonl', mode='w') as writer:\n",
        "    writer.write(tweet_list)\n"
      ],
      "execution_count": 0,
      "outputs": []
    },
    {
      "metadata": {
        "id": "GOYV542HhZxy",
        "colab_type": "code",
        "colab": {}
      },
      "cell_type": "code",
      "source": [
        "store_tweets(data)"
      ],
      "execution_count": 0,
      "outputs": []
    },
    {
      "metadata": {
        "id": "0PIdzTRWHpkH",
        "colab_type": "text"
      },
      "cell_type": "markdown",
      "source": [
        "To repesent the data from JSON line file in a tabular format using dataframe"
      ]
    },
    {
      "metadata": {
        "id": "g8ofsKS2iln6",
        "colab_type": "code",
        "colab": {}
      },
      "cell_type": "code",
      "source": [
        "with open(\"/content/twitter.jsonl\") as datafile:\n",
        "    data = json.load(datafile)\n",
        "dataframe = pd.DataFrame(data)"
      ],
      "execution_count": 0,
      "outputs": []
    },
    {
      "metadata": {
        "id": "U6zvm3BSngXv",
        "colab_type": "code",
        "colab": {
          "base_uri": "https://localhost:8080/",
          "height": 90
        },
        "outputId": "234b069e-e66d-4928-ecc7-0539757bf53f"
      },
      "cell_type": "code",
      "source": [
        "dataframe.columns"
      ],
      "execution_count": 128,
      "outputs": [
        {
          "output_type": "execute_result",
          "data": {
            "text/plain": [
              "Index(['created_at', 'favorite_count', 'followers_count', 'id_str',\n",
              "       'image_count', 'in_reply_to_screen_name', 'retweet_count',\n",
              "       'screen_name', 'text'],\n",
              "      dtype='object')"
            ]
          },
          "metadata": {
            "tags": []
          },
          "execution_count": 128
        }
      ]
    },
    {
      "metadata": {
        "id": "iL9UyHivHyYo",
        "colab_type": "text"
      },
      "cell_type": "markdown",
      "source": [
        "Creating a new dataframe to display only the required columns"
      ]
    },
    {
      "metadata": {
        "id": "KcfSp1f9nl2I",
        "colab_type": "code",
        "colab": {}
      },
      "cell_type": "code",
      "source": [
        "df = dataframe[['created_at', 'text', 'favorite_count', 'retweet_count', 'image_count']]"
      ],
      "execution_count": 0,
      "outputs": []
    },
    {
      "metadata": {
        "id": "G_rvBwLguUVR",
        "colab_type": "code",
        "colab": {
          "base_uri": "https://localhost:8080/",
          "height": 256
        },
        "outputId": "0681610d-4e8c-4f18-de88-f5bc144dd03a"
      },
      "cell_type": "code",
      "source": [
        "print(df.head())"
      ],
      "execution_count": 130,
      "outputs": [
        {
          "output_type": "stream",
          "text": [
            "            created_at                                               text  \\\n",
            "0  2019-04-10 09:01:29  Clarification: Our earlier post which indicate...   \n",
            "1  2019-04-10 04:51:26  RT @IIITDelhi: Applications open for MTech (CB...   \n",
            "2  2019-04-09 16:45:07  RT @IIITDelhi: We are delighted to share that ...   \n",
            "3  2019-04-09 05:04:27  RT @Harvard: Professor Jelani Nelson founded A...   \n",
            "4  2019-04-09 05:04:11  RT @emnlp2019: For anyone interested in submit...   \n",
            "\n",
            "   favorite_count  retweet_count  image_count  \n",
            "0               0              0          NaN  \n",
            "1               0              1          NaN  \n",
            "2               0             14          NaN  \n",
            "3               0             35          NaN  \n",
            "4               0             17          NaN  \n"
          ],
          "name": "stdout"
        }
      ]
    },
    {
      "metadata": {
        "id": "rr8PQ9qAH72n",
        "colab_type": "text"
      },
      "cell_type": "markdown",
      "source": [
        "To count the number of tweets which contain images"
      ]
    },
    {
      "metadata": {
        "id": "2lGc9yEduYrG",
        "colab_type": "code",
        "colab": {
          "base_uri": "https://localhost:8080/",
          "height": 35
        },
        "outputId": "a3f41bba-fa00-473b-d477-3edb87dc752e"
      },
      "cell_type": "code",
      "source": [
        "count = 0\n",
        "for i in range(len(df)):\n",
        "  if(df.iloc[i]['image_count']>0):\n",
        "    count = count+1\n",
        "print(count)"
      ],
      "execution_count": 131,
      "outputs": [
        {
          "output_type": "stream",
          "text": [
            "24\n"
          ],
          "name": "stdout"
        }
      ]
    },
    {
      "metadata": {
        "id": "CWGuzojfLNkk",
        "colab_type": "code",
        "colab": {}
      },
      "cell_type": "code",
      "source": [
        ""
      ],
      "execution_count": 0,
      "outputs": []
    }
  ]
}